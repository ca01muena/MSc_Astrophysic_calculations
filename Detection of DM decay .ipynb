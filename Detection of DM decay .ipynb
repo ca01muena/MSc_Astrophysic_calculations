{
 "cells": [
  {
   "cell_type": "code",
   "execution_count": 1,
   "metadata": {},
   "outputs": [],
   "source": [
    "from pylab import *\n",
    "import numpy as np\n",
    "from scipy.integrate import quad\n",
    "import matplotlib.pyplot as plt"
   ]
  },
  {
   "cell_type": "code",
   "execution_count": null,
   "metadata": {},
   "outputs": [],
   "source": [
    "##Me defino parámetros galaxia\n",
    "\n",
    "##Defino parámetros\n",
    "\n",
    "m_s = 1.989 * 10**30                            ## Kg\n",
    "pc = 3.24 * 10**(-17)                           ## metro a kiloparséc\n",
    "G = 6.674 * 10 ** (-11)                         ##  N m^2 / kg^2\n",
    "n = 5.8\n",
    "c = 5\n",
    "rs = 300000/c                                   ## escalador de radio\n",
    "delta = (200/3) * (c**3/(np.log(1+c)-(c/(c+1))))\n",
    "dn = 2 * n\n",
    "\n",
    "##Densidades:\n",
    "rho_s = 5.4323 * 10**26\n",
    "rho_c = 8.5 * 10**(-27)                     ## kg/m^3\n",
    "rho_c_pc = rho_c / pc**3\n",
    "\n",
    "\n",
    "##Me defino parámetros para DM\n",
    "\n",
    "T = 300     #tiempo de exposición en horas\n",
    "tau = 1     #tiempo de vida media\n",
    "z = 2       #número de partículas en que decae DM\n",
    "Aeff = 1    #Área efectiva - tabulada\n",
    "dn_de = 30  #observación\n",
    "theta1 = 1\n",
    "theta2 = 2\n",
    "phi1 = 1\n",
    "phi 2 = 2\n",
    "rho_c_pc = \n",
    "#integrales\n",
    "\n",
    "def solidangle(x):\n",
    "    I = np.sin(x)\n",
    "    return I\n",
    "\n",
    "def rho(x):\n",
    "    y = (rho_c_pc * delta) /((x/rs) * (1+(x/rs))**2)\n",
    "    return y\n",
    "\n",
    "#Masa DM\n",
    "\n",
    "dm_mass_list = []\n",
    "\n",
    "list = np.linspace(0, 70000, 2000)\n",
    "for rp in list:\n",
    "\n",
    "    mh = MH2(m)+MD(m)+M_bulge+M_s_halo\n",
    "    MH2_list.append(mh)\n",
    "    \n",
    "    dm_mass=((T * z * Aeff)/(4 * pi * tau)) * (quad(solidangle, theta1, theta2)) * (quad(rho, 0, rp))\n",
    "    dm_mass_list.append(dm_mass)\n"
   ]
  }
 ],
 "metadata": {
  "kernelspec": {
   "display_name": "Python 3",
   "language": "python",
   "name": "python3"
  },
  "language_info": {
   "codemirror_mode": {
    "name": "ipython",
    "version": 3
   },
   "file_extension": ".py",
   "mimetype": "text/x-python",
   "name": "python",
   "nbconvert_exporter": "python",
   "pygments_lexer": "ipython3",
   "version": "3.7.6"
  }
 },
 "nbformat": 4,
 "nbformat_minor": 4
}
